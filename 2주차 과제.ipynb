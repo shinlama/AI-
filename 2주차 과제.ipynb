{
 "cells": [
  {
   "cell_type": "markdown",
   "id": "77a86b13",
   "metadata": {},
   "source": [
    "Q1. 중간고사 기말고사 점수를 따로 받아 저장하는 클래스를 구현해보세요. 단, 생성자의 인스턴스는 private으로 선언되어야하며, 데코레이터를 이용해 데이터를 저장하고, 함수를 이용해 평균값을 출력해보세요."
   ]
  },
  {
   "cell_type": "code",
   "execution_count": 1,
   "id": "6c4fa889",
   "metadata": {},
   "outputs": [
    {
     "name": "stdout",
     "output_type": "stream",
     "text": [
      "62.5\n"
     ]
    }
   ],
   "source": [
    "class Score():\n",
    "    def __init__(self, mid, final):\n",
    "        self.__mid = mid\n",
    "        self.__final = final\n",
    "        \n",
    "    @property\n",
    "    def mid(self):\n",
    "        return self.__mid\n",
    "    \n",
    "    @property\n",
    "    def final(self):\n",
    "        return self.__final\n",
    "    \n",
    "score = Score(50, 75)\n",
    "print((score.mid + score.final) / 2)"
   ]
  },
  {
   "cell_type": "markdown",
   "id": "260534d8",
   "metadata": {},
   "source": [
    "Q2. 다양한 탈 것을 사용하는 게임을 만드는 중입니다. 빠른 구현을 위해서 이미 구현한 Car 클래스를 이용해서 Bike라는 클래스를 새로 제작하려고 합니다. Car 클래스를 상속받아서 새로운 Bike 클래스를 아래와 같이 출력되도록 구성해보세요.\n",
    "\n",
    "- Bike class는 size 인자를 추가로 가집니다."
   ]
  },
  {
   "cell_type": "code",
   "execution_count": 2,
   "id": "48b228a0",
   "metadata": {},
   "outputs": [
    {
     "name": "stdout",
     "output_type": "stream",
     "text": [
      "gas 2 small\n"
     ]
    }
   ],
   "source": [
    "class Car():\n",
    "    def __init__(self, fuel, wheels):\n",
    "        self.fuel = fuel\n",
    "        self.wheels = wheels\n",
    "\n",
    "class Bike(Car):\n",
    "    def __init__(self, fuel, wheels, size):\n",
    "        super().__init__(fuel, wheels)\n",
    "        self.size = size\n",
    "    \n",
    "bike = Bike(\"gas\", \"2\", \"small\")\n",
    "print(bike.fuel, bike.wheels, bike.size)"
   ]
  },
  {
   "cell_type": "markdown",
   "id": "3d5ff91e",
   "metadata": {},
   "source": [
    "Q3. 이번 시험 결과에 대한 데이터를 학과 사무실에서 CSV파일로 전달해줬습니다. 우리는 이 파일을 이용해서 데이터 처리를 진행해야 합니다. 파일 입출력을 이용해 파일 데이터를 리스트로 만들어보세요.\n",
    "\n",
    "- 파일 입출력에 사용하는 open 함수를 이용해 CSV 파일 내부의 데이터를 읽어보세요"
   ]
  },
  {
   "cell_type": "code",
   "execution_count": 3,
   "id": "850830b1",
   "metadata": {},
   "outputs": [],
   "source": [
    "import csv\n",
    "\n",
    "f1le_path = \"./data-01-test-score.csv\"\n",
    "\n",
    "\n",
    "def read_file(file_path=f1le_path):\n",
    "    with open(file_path, \"r\") as f:\n",
    "        csv_data = csv.reader(f)\n",
    "        # print(csv_data)\n",
    "        csv_data = list(csv_data)\n",
    "        # for row in csv_data:\n",
    "        #     print(type(row))\n",
    "    return csv_data"
   ]
  },
  {
   "cell_type": "markdown",
   "id": "f2b5e626",
   "metadata": {},
   "source": [
    "Q4. 우리는 방금 CSV 파일을 읽는 함수를 구현해보았습니다. 하지만 이를 조금 더 효율적으로 사용하기 위해서 클래스로 구성을 진행하려고 합니다. 방금 구현한 함수를 포함한 클래스를 구현해보세요.\n",
    "\n",
    " - merge list를 이용해 리스트 내 데이터의 합을 출력해보세요.\n",
    "\n",
    "- 데이터를 합치기 전 데이터의 자료형을 변경해보세요."
   ]
  },
  {
   "cell_type": "code",
   "execution_count": 4,
   "id": "59028db7",
   "metadata": {},
   "outputs": [
    {
     "ename": "FileNotFoundError",
     "evalue": "[Errno 2] No such file or directory: 'data-01-test-score.csv'",
     "output_type": "error",
     "traceback": [
      "\u001b[0;31m---------------------------------------------------------------------------\u001b[0m",
      "\u001b[0;31mFileNotFoundError\u001b[0m                         Traceback (most recent call last)",
      "Input \u001b[0;32mIn [4]\u001b[0m, in \u001b[0;36m<cell line: 32>\u001b[0;34m()\u001b[0m\n\u001b[1;32m     28\u001b[0m         \u001b[38;5;28;01mreturn\u001b[39;00m temp2_list    \n\u001b[1;32m     31\u001b[0m read_csv \u001b[38;5;241m=\u001b[39m ReadCSV(\u001b[38;5;124m\"\u001b[39m\u001b[38;5;124mdata-01-test-score.csv\u001b[39m\u001b[38;5;124m\"\u001b[39m)                \n\u001b[0;32m---> 32\u001b[0m \u001b[38;5;28mprint\u001b[39m(\u001b[43mread_csv\u001b[49m\u001b[38;5;241;43m.\u001b[39;49m\u001b[43mread_file\u001b[49m\u001b[43m(\u001b[49m\u001b[43m)\u001b[49m)                   \n\u001b[1;32m     33\u001b[0m \u001b[38;5;28mprint\u001b[39m(read_csv\u001b[38;5;241m.\u001b[39mmerge_list())\n",
      "Input \u001b[0;32mIn [4]\u001b[0m, in \u001b[0;36mReadCSV.read_file\u001b[0;34m(self)\u001b[0m\n\u001b[1;32m      7\u001b[0m \u001b[38;5;28;01mdef\u001b[39;00m \u001b[38;5;21mread_file\u001b[39m(\u001b[38;5;28mself\u001b[39m):\n\u001b[1;32m      8\u001b[0m     temp_list \u001b[38;5;241m=\u001b[39m []\n\u001b[0;32m----> 9\u001b[0m     f \u001b[38;5;241m=\u001b[39m \u001b[38;5;28;43mopen\u001b[39;49m\u001b[43m(\u001b[49m\u001b[38;5;28;43mself\u001b[39;49m\u001b[38;5;241;43m.\u001b[39;49m\u001b[43mfile_path\u001b[49m\u001b[43m,\u001b[49m\u001b[38;5;124;43m'\u001b[39;49m\u001b[38;5;124;43mr\u001b[39;49m\u001b[38;5;124;43m'\u001b[39;49m\u001b[43m)\u001b[49m\n\u001b[1;32m     10\u001b[0m     lines \u001b[38;5;241m=\u001b[39m f\u001b[38;5;241m.\u001b[39mreadlines()\n\u001b[1;32m     11\u001b[0m     lines \u001b[38;5;241m=\u001b[39m \u001b[38;5;28mlist\u001b[39m(\u001b[38;5;28mmap\u001b[39m(\u001b[38;5;28;01mlambda\u001b[39;00m s: s\u001b[38;5;241m.\u001b[39mstrip(), lines))\n",
      "\u001b[0;31mFileNotFoundError\u001b[0m: [Errno 2] No such file or directory: 'data-01-test-score.csv'"
     ]
    }
   ],
   "source": [
    "#Q4\n",
    "\n",
    "class ReadCSV():\n",
    "    def __init__(self, file_path) :\n",
    "        self.file_path = file_path    \n",
    "\n",
    "    def read_file(self):\n",
    "        temp_list = []\n",
    "        f = open(self.file_path,'r')\n",
    "        lines = f.readlines()\n",
    "        lines = list(map(lambda s: s.strip(), lines))\n",
    "        \n",
    "        for nums in lines :\n",
    "            temp_list.append(list(nums.split(',')))\n",
    "        \n",
    "        return temp_list\n",
    "    \n",
    "    def merge_list(self):\n",
    "        temp2_list = []\n",
    "        temp_val = 0\n",
    "\n",
    "        for nums in self.read_file() :\n",
    "            for num in nums :\n",
    "                temp_val += int(num)\n",
    "            temp2_list.append(temp_val)\n",
    "            temp_val = 0\n",
    "\n",
    "        return temp2_list    \n",
    "  \n",
    "   \n",
    "read_csv = ReadCSV(\"data-01-test-score.csv\")                \n",
    "print(read_csv.read_file())                   \n",
    "print(read_csv.merge_list())"
   ]
  },
  {
   "cell_type": "markdown",
   "id": "fbbdd0f8",
   "metadata": {},
   "source": [
    "Q5. 이전에 구현한 클래스에서 merge_list의 함수 동작을 변경해야합니다. 단순합계가 아닌 평균을 구하는 함수로 변경해보세요.\n",
    "\n",
    " - 리스트의 데이터를 다루는 함수를 이용해서 구현해보세요.\n",
    "\n",
    "- 최종 평균을 구한 후 오름차순으로 정렬해주세요.\n",
    "\n"
   ]
  },
  {
   "cell_type": "code",
   "execution_count": null,
   "id": "15714dbc",
   "metadata": {},
   "outputs": [],
   "source": [
    "#Q5\n",
    "\n",
    "import csv\n",
    "\n",
    "\n",
    "file_path = \"./data-01-test-score.csv\"\n",
    "\n",
    "\n",
    "class ReadCSV():\n",
    "    def __init__(self, file_path: str) -> None:\n",
    "        self.file_path: str = file_path\n",
    "        self.csv_data: list = []\n",
    "\n",
    "    def read_file(self) -> list:\n",
    "        with open(self.file_path, \"r\") as f:\n",
    "            csv_data = csv.reader(f)\n",
    "            self.csv_data = list(csv_data)\n",
    "\n",
    "        return self.csv_data\n",
    "\n",
    "    def merge_list(self) -> list:\n",
    "        self.read_file()\n",
    "        merge_num = [sum(map(int, _list))/len(_list)\n",
    "                     for _list in self.csv_data]\n",
    "        return sorted(merge_num)\n",
    "\n",
    "\n",
    "read_csv = ReadCSV(file_path)\n",
    "print(read_csv.merge_list())"
   ]
  }
 ],
 "metadata": {
  "kernelspec": {
   "display_name": "Python 3 (ipykernel)",
   "language": "python",
   "name": "python3"
  },
  "language_info": {
   "codemirror_mode": {
    "name": "ipython",
    "version": 3
   },
   "file_extension": ".py",
   "mimetype": "text/x-python",
   "name": "python",
   "nbconvert_exporter": "python",
   "pygments_lexer": "ipython3",
   "version": "3.9.7"
  }
 },
 "nbformat": 4,
 "nbformat_minor": 5
}
