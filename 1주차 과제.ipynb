{
 "cells": [
  {
   "cell_type": "markdown",
   "id": "a6a93587",
   "metadata": {},
   "source": [
    "## 코칭스터디 인공지능 기초다지기\n",
    "### 1주차 과제"
   ]
  },
  {
   "cell_type": "code",
   "execution_count": 4,
   "id": "7d22bb53",
   "metadata": {},
   "outputs": [
    {
     "name": "stdout",
     "output_type": "stream",
     "text": [
      "[1, 5, 7, 15, 29]\n"
     ]
    }
   ],
   "source": [
    "# Q1\n",
    "# 주어진 리스트에서 홀수인 값만 출력하는 함수\n",
    "\n",
    "num_list = [1, 5, 7, 15, 16, 22, 28, 29]\n",
    "\n",
    "def get_odd_num(num_list):\n",
    "    odd_list = []\n",
    "    for i in num_list:\n",
    "        if i % 2 == 1:\n",
    "            odd_list.append(i)\n",
    "    return odd_list\n",
    "\n",
    "print(get_odd_num(num_list))"
   ]
  },
  {
   "cell_type": "code",
   "execution_count": 9,
   "id": "c8d2ef5d",
   "metadata": {},
   "outputs": [
    {
     "name": "stdout",
     "output_type": "stream",
     "text": [
      "Where there is a will there is a way\n"
     ]
    }
   ],
   "source": [
    "# Q2\n",
    "# 주어진 문자열을 단어별로 끊고 역순으로 출력하는 함수\n",
    "\n",
    "sentence = \"way a is there will a is there Where\"\n",
    "\n",
    "def reverse_sentence(sentence):\n",
    "    reverse = sentence.split()[::-1]    #리버스된 순서로 리스트 만들기\n",
    "    return \" \".join(reverse)            #리스트 안의 단어들 이어붙이기\n",
    "\n",
    "print(reverse_sentence(sentence))"
   ]
  },
  {
   "cell_type": "code",
   "execution_count": 19,
   "id": "05045e35",
   "metadata": {},
   "outputs": [
    {
     "name": "stdout",
     "output_type": "stream",
     "text": [
      "1 번, 평균 : 100.0\n",
      "2 번, 평균 : 92.5\n",
      "3 번, 평균 : 57.5\n",
      "4 번, 평균 : 77.5\n",
      "5 번, 평균 : 70.0\n"
     ]
    }
   ],
   "source": [
    "# Q3\n",
    "# 학생들의 중간, 기말 평균 구하기\n",
    "# 리스트 안의 튜플의 평균 구하고 출력하는 함수\n",
    "\n",
    "score = [(100, 100), (95, 90), (55, 60), (75, 80), (70, 70)]\n",
    "\n",
    "def get_avg(score):\n",
    "    for i in range(len(score)):\n",
    "        (mid, final) = score[i]\n",
    "        print(f\"{i+1} 번, 평균 : {(mid + final)/2}\")\n",
    "    \n",
    "get_avg(score)"
   ]
  },
  {
   "cell_type": "code",
   "execution_count": 50,
   "id": "0251957b",
   "metadata": {},
   "outputs": [
    {
     "name": "stdout",
     "output_type": "stream",
     "text": [
      "{'사과': 35, '배': 30, '감': 35, '포도': 10, '귤': 25}\n"
     ]
    }
   ],
   "source": [
    "# Q4\n",
    "# 딕셔너리 합치기, 중복된 key가 있다면 value값 합치기\n",
    "\n",
    "from collections import Counter\n",
    "# Counter 라이브러리 사용\n",
    "\n",
    "dict_first = {'사과': 30, '배': 15, '감': 10, '포도': 10}\n",
    "dict_second = {'사과': 5, '감': 25, '배': 15, '귤': 25}\n",
    "\n",
    "def merge_dict(dict_first, dict_second):\n",
    "    result = dict(Counter(dict_first) + Counter(dict_second))\n",
    "    return result\n",
    "\n",
    "print(merge_dict(dict_first, dict_second))"
   ]
  },
  {
   "cell_type": "code",
   "execution_count": 42,
   "id": "c3f3256d",
   "metadata": {},
   "outputs": [
    {
     "name": "stdout",
     "output_type": "stream",
     "text": [
      "['cat', 'dog', 'cow']\n"
     ]
    }
   ],
   "source": [
    "# Q5\n",
    "# 문자열에서 숫자 제거한 나머지 string 리스트로 출력\n",
    "\n",
    "\n",
    "def find_string(inputs):\n",
    "    lst = []\n",
    "    for str in inputs:\n",
    "        if str.isalpha():\n",
    "            lst.append(str)\n",
    "        else:\n",
    "            lst.append('.')\n",
    "    a = ''.join(lst)      #cat..dog..cow.\n",
    "    a = a.split(\".\")      #['cat', '', 'dog', '', 'cow', '']\n",
    "    for i in a:\n",
    "        if i == '':\n",
    "            a.remove(i)   #''없애주기\n",
    "    return a\n",
    "\n",
    "\n",
    "inputs = \"cat32dog16cow5\"\n",
    "string_list = find_string(inputs)\n",
    "print(string_list)"
   ]
  }
 ],
 "metadata": {
  "kernelspec": {
   "display_name": "Python 3 (ipykernel)",
   "language": "python",
   "name": "python3"
  },
  "language_info": {
   "codemirror_mode": {
    "name": "ipython",
    "version": 3
   },
   "file_extension": ".py",
   "mimetype": "text/x-python",
   "name": "python",
   "nbconvert_exporter": "python",
   "pygments_lexer": "ipython3",
   "version": "3.9.7"
  }
 },
 "nbformat": 4,
 "nbformat_minor": 5
}
