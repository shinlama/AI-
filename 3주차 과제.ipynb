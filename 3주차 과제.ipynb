{
 "cells": [
  {
   "cell_type": "code",
   "execution_count": 13,
   "metadata": {},
   "outputs": [
    {
     "name": "stdout",
     "output_type": "stream",
     "text": [
      "[[1.0178599  0.54998767]\n",
      " [0.44284687 0.16069943]\n",
      " [1.40500368 0.53091845]\n",
      " [0.51572735 0.19564738]\n",
      " [0.84479007 0.45893593]] (5, 2)\n"
     ]
    }
   ],
   "source": [
    "#Q1. numpy 행열곱 연산\n",
    "\n",
    "import numpy as np\n",
    "\n",
    "arr1 = np.random.rand(5, 3)\n",
    "arr2 = np.random.rand(3, 2)\n",
    "\n",
    "dot = arr1 @ arr2\n",
    "\n",
    "print(dot, dot.shape)"
   ]
  },
  {
   "cell_type": "code",
   "execution_count": 9,
   "metadata": {},
   "outputs": [
    {
     "name": "stdout",
     "output_type": "stream",
     "text": [
      "[[ 5.  7.]\n",
      " [ 9. 11.]\n",
      " [ 2.  4.]\n",
      " [ 6.  8.]]\n",
      "[[ 5.  7.  2.  4.]\n",
      " [ 9. 11.  6.  8.]]\n"
     ]
    }
   ],
   "source": [
    "#Q2. numpy concatenate 연산\n",
    "\n",
    "arr1 = np.array([[5,7], [9,11]], float)\n",
    "arr2 = np.array([[2,4], [6,8]], float)\n",
    "\n",
    "concat_1 = np.concatenate((arr1, arr2), axis=0)\n",
    "concat_2 = np.concatenate((arr1, arr2), axis=1)\n",
    "\n",
    "print(concat_1)\n",
    "print(concat_2)"
   ]
  },
  {
   "cell_type": "code",
   "execution_count": 12,
   "metadata": {},
   "outputs": [
    {
     "name": "stdout",
     "output_type": "stream",
     "text": [
      "[1. 2. 3. 4. 5. 6.] (6,)\n",
      "[10. 20. 30. 40. 50. 60.] (6,)\n"
     ]
    }
   ],
   "source": [
    "#Q3. numpy linear regression\n",
    "\n",
    "import numpy as np\n",
    "\n",
    "xy = np.array([[1., 2., 3., 4., 5., 6.],\n",
    "                [10., 20., 30., 40., 50., 60.]])\n",
    "\n",
    "x_train = xy[0]\n",
    "y_train = xy[1]\n",
    "\n",
    "print(x_train, x_train.shape)\n",
    "print(y_train, y_train.shape)"
   ]
  },
  {
   "cell_type": "code",
   "execution_count": 14,
   "metadata": {},
   "outputs": [
    {
     "name": "stdout",
     "output_type": "stream",
     "text": [
      "[0.58927223] [0.96427464]\n"
     ]
    }
   ],
   "source": [
    "#Q4. weeght와 bias를 랜덤으로 정하기\n",
    "\n",
    "beta_gd = np.random.random(1)\n",
    "bias = np.random.random(1)\n",
    "\n",
    "print(beta_gd, bias)"
   ]
  },
  {
   "cell_type": "code",
   "execution_count": 15,
   "metadata": {},
   "outputs": [
    {
     "name": "stdout",
     "output_type": "stream",
     "text": [
      "Epoch (         0/1,000 error:  79.633896, beta_gd:   0.841227, bias:  1.018484\n",
      "Epoch (       100/1,000 error:   0.279459, beta_gd:   2.719025, bias:  1.202908\n",
      "Epoch (       200/1,000 error:   0.193946, beta_gd:   2.765929, bias:  1.002106\n",
      "Epoch (       300/1,000 error:   0.134599, beta_gd:   2.805002, bias:  0.834824\n",
      "Epoch (       400/1,000 error:   0.093412, beta_gd:   2.837553, bias:  0.695466\n",
      "Epoch (       500/1,000 error:   0.064829, beta_gd:   2.864671, bias:  0.579371\n",
      "Epoch (       600/1,000 error:   0.044991, beta_gd:   2.887261, bias:  0.482656\n",
      "Epoch (       700/1,000 error:   0.031224, beta_gd:   2.906081, bias:  0.402086\n",
      "Epoch (       800/1,000 error:   0.021670, beta_gd:   2.921759, bias:  0.334965\n",
      "Epoch (       900/1,000 error:   0.015039, beta_gd:   2.934820, bias:  0.279049\n"
     ]
    }
   ],
   "source": [
    "#Q5. 경사하강법으로 linear regression으로 구현\n",
    "\n",
    "xy = np.array([[1., 2., 3., 4., 5., 6.],\n",
    "               [3., 6., 9., 12., 15., 18.]])\n",
    "\n",
    "x_train = xy[0]\n",
    "y_train = xy[1]\n",
    "\n",
    "beta_gd = np.random.random(1)\n",
    "bias = np.random.random(1)\n",
    "\n",
    "learning_rate = 0.01\n",
    "for i in range(1000):\n",
    "    y_pred = x_train * beta_gd + bias\n",
    "    error = ((y_pred - y_train)**2).mean()\n",
    "    grad = ((y_pred - y_train)*x_train).mean()\n",
    "    bias -= learning_rate * (y_pred - y_train).mean()\n",
    "    beta_gd -= learning_rate*grad\n",
    "\n",
    "    if i % 100 == 0:\n",
    "        print('Epoch ({:10d}/1,000 error: {:10f}, beta_gd: {:10f}, bias:{:10f}'.format(\n",
    "            i, error, beta_gd.item(), bias.item()))"
   ]
  },
  {
   "cell_type": "code",
   "execution_count": null,
   "metadata": {},
   "outputs": [],
   "source": []
  }
 ],
 "metadata": {
  "interpreter": {
   "hash": "a8d35df3ab7807f39258bd0a6d96e790bf81aa67f1f8daf4598d02406f5cb2bc"
  },
  "kernelspec": {
   "display_name": "Python 3.9.16 ('lama-torch')",
   "language": "python",
   "name": "python3"
  },
  "language_info": {
   "codemirror_mode": {
    "name": "ipython",
    "version": 3
   },
   "file_extension": ".py",
   "mimetype": "text/x-python",
   "name": "python",
   "nbconvert_exporter": "python",
   "pygments_lexer": "ipython3",
   "version": "3.9.16"
  },
  "orig_nbformat": 4
 },
 "nbformat": 4,
 "nbformat_minor": 2
}
